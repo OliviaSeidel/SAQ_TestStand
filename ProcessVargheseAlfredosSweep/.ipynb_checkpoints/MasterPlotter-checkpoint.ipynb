{
 "cells": [
  {
   "cell_type": "markdown",
   "id": "e09ada23-f358-4d5f-a301-46c7ee23398e",
   "metadata": {},
   "source": [
    "**Data Analysis from UTA for the paper**\n",
    "\n",
    "This Contains the analysis and code for generating the paper plots from UTA. It processes two Pressure sweep data sets, one taken by Olivia on 6/30/23, and one taken by Varghese and Alfredo in 11/2023. This code is designed to pull from a folder called \"Data\" which is also in this github, and contains both data sets. It also processes an E feild sweep at 633 Torr. This contains the following Analysis procedures:\n",
    "\n",
    "1. Data Filtering and Processing\n",
    "   \n",
    "       - Discarding the first packet from the zybo (this was left over from the last run)\n",
    "       - Converting from timestamps to RTDs\n",
    "       - Discarding nonphysical RTDs\n",
    "   \n",
    "3. Calculating Charge Per Reset from calibration Data\n",
    "\n",
    "       - Finding the mean RTD and 1 standard deviation\n",
    "       - Plotting the input current vs 1/meanRTD, and propagating errors\n",
    "       - Fitting a line to that data\n",
    "       - Finding the slope of the line using a weighted polynomial regression fit\n",
    "       - Getting the error on the slope fit\n",
    "       - Generating a plot comparing Charge per reset vs Vdd value\n",
    "\n",
    "4. Calculating Charge Per Unit Area\n",
    "   \n",
    "       - Finding the average RTD Value, and 1 standard deviation\n",
    "       - "
   ]
  },
  {
   "cell_type": "markdown",
   "id": "8fa2608a-394f-4d6f-8b23-98f93680726a",
   "metadata": {},
   "source": []
  },
  {
   "cell_type": "code",
   "execution_count": null,
   "id": "756c11be-063c-4ff8-934c-2387187a9798",
   "metadata": {},
   "outputs": [],
   "source": []
  }
 ],
 "metadata": {
  "kernelspec": {
   "display_name": "Python 3 (ipykernel)",
   "language": "python",
   "name": "python3"
  },
  "language_info": {
   "codemirror_mode": {
    "name": "ipython",
    "version": 3
   },
   "file_extension": ".py",
   "mimetype": "text/x-python",
   "name": "python",
   "nbconvert_exporter": "python",
   "pygments_lexer": "ipython3",
   "version": "3.11.4"
  }
 },
 "nbformat": 4,
 "nbformat_minor": 5
}
