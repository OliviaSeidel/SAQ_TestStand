{
 "cells": [
  {
   "cell_type": "markdown",
   "id": "e09ada23-f358-4d5f-a301-46c7ee23398e",
   "metadata": {},
   "source": [
    "**Data Analysis from UTA for the paper**\n",
    "\n",
    "This Contains the analysis and code for generating the paper plots from UTA. This Processes two data sets, one taken by Olivia on 6/30/23, and one taken by Varghese and Alfredo in 11/2023"
   ]
  },
  {
   "cell_type": "code",
   "execution_count": null,
   "id": "13fbd807-7a64-4faa-9525-a70c230355b4",
   "metadata": {},
   "outputs": [],
   "source": []
  }
 ],
 "metadata": {
  "kernelspec": {
   "display_name": "Python 3 (ipykernel)",
   "language": "python",
   "name": "python3"
  },
  "language_info": {
   "codemirror_mode": {
    "name": "ipython",
    "version": 3
   },
   "file_extension": ".py",
   "mimetype": "text/x-python",
   "name": "python",
   "nbconvert_exporter": "python",
   "pygments_lexer": "ipython3",
   "version": "3.11.4"
  }
 },
 "nbformat": 4,
 "nbformat_minor": 5
}
